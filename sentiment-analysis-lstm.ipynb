{
 "cells": [
  {
   "cell_type": "markdown",
   "metadata": {},
   "source": [
    "**Importing Libraries and Packages**"
   ]
  },
  {
   "cell_type": "code",
   "execution_count": 2,
   "metadata": {},
   "outputs": [
    {
     "name": "stderr",
     "output_type": "stream",
     "text": [
      "Using TensorFlow backend.\n"
     ]
    }
   ],
   "source": [
    "import numpy as np\n",
    "import pandas as pd \n",
    "import matplotlib.pyplot as plt\n",
    "%matplotlib inline\n",
    "\n",
    "import nltk\n",
    "from nltk.corpus import stopwords\n",
    "import re\n",
    "import joblib\n",
    "from keras.preprocessing.text import Tokenizer\n",
    "import gensim\n",
    "from keras.preprocessing.sequence import pad_sequences\n",
    "from sklearn.preprocessing import LabelEncoder\n",
    "from keras.layers import Embedding\n",
    "from keras.models import Sequential\n",
    "from keras.layers import Dense,LSTM,Dropout\n",
    "from sklearn.metrics import confusion_matrix,accuracy_score,classification_report"
   ]
  },
  {
   "cell_type": "markdown",
   "metadata": {},
   "source": [
    "**Reading the Dataset**"
   ]
  },
  {
   "cell_type": "code",
   "execution_count": 3,
   "metadata": {
    "_cell_guid": "79c7e3d0-c299-4dcb-8224-4455121ee9b0",
    "_uuid": "d629ff2d2480ee46fbb7e2d37f6b5fab8052498a"
   },
   "outputs": [],
   "source": [
    "df = pd.read_csv(\"/data/training.1600000.processed.noemoticon.csv\",encoding='latin-1',header=None)"
   ]
  },
  {
   "cell_type": "code",
   "execution_count": 4,
   "metadata": {},
   "outputs": [
    {
     "data": {
      "text/html": [
       "<div>\n",
       "<style scoped>\n",
       "    .dataframe tbody tr th:only-of-type {\n",
       "        vertical-align: middle;\n",
       "    }\n",
       "\n",
       "    .dataframe tbody tr th {\n",
       "        vertical-align: top;\n",
       "    }\n",
       "\n",
       "    .dataframe thead th {\n",
       "        text-align: right;\n",
       "    }\n",
       "</style>\n",
       "<table border=\"1\" class=\"dataframe\">\n",
       "  <thead>\n",
       "    <tr style=\"text-align: right;\">\n",
       "      <th></th>\n",
       "      <th>0</th>\n",
       "      <th>1</th>\n",
       "      <th>2</th>\n",
       "      <th>3</th>\n",
       "      <th>4</th>\n",
       "      <th>5</th>\n",
       "    </tr>\n",
       "  </thead>\n",
       "  <tbody>\n",
       "    <tr>\n",
       "      <td>0</td>\n",
       "      <td>0</td>\n",
       "      <td>1467810369</td>\n",
       "      <td>Mon Apr 06 22:19:45 PDT 2009</td>\n",
       "      <td>NO_QUERY</td>\n",
       "      <td>_TheSpecialOne_</td>\n",
       "      <td>@switchfoot http://twitpic.com/2y1zl - Awww, t...</td>\n",
       "    </tr>\n",
       "    <tr>\n",
       "      <td>1</td>\n",
       "      <td>0</td>\n",
       "      <td>1467810672</td>\n",
       "      <td>Mon Apr 06 22:19:49 PDT 2009</td>\n",
       "      <td>NO_QUERY</td>\n",
       "      <td>scotthamilton</td>\n",
       "      <td>is upset that he can't update his Facebook by ...</td>\n",
       "    </tr>\n",
       "    <tr>\n",
       "      <td>2</td>\n",
       "      <td>0</td>\n",
       "      <td>1467810917</td>\n",
       "      <td>Mon Apr 06 22:19:53 PDT 2009</td>\n",
       "      <td>NO_QUERY</td>\n",
       "      <td>mattycus</td>\n",
       "      <td>@Kenichan I dived many times for the ball. Man...</td>\n",
       "    </tr>\n",
       "    <tr>\n",
       "      <td>3</td>\n",
       "      <td>0</td>\n",
       "      <td>1467811184</td>\n",
       "      <td>Mon Apr 06 22:19:57 PDT 2009</td>\n",
       "      <td>NO_QUERY</td>\n",
       "      <td>ElleCTF</td>\n",
       "      <td>my whole body feels itchy and like its on fire</td>\n",
       "    </tr>\n",
       "    <tr>\n",
       "      <td>4</td>\n",
       "      <td>0</td>\n",
       "      <td>1467811193</td>\n",
       "      <td>Mon Apr 06 22:19:57 PDT 2009</td>\n",
       "      <td>NO_QUERY</td>\n",
       "      <td>Karoli</td>\n",
       "      <td>@nationwideclass no, it's not behaving at all....</td>\n",
       "    </tr>\n",
       "  </tbody>\n",
       "</table>\n",
       "</div>"
      ],
      "text/plain": [
       "   0           1                             2         3                4  \\\n",
       "0  0  1467810369  Mon Apr 06 22:19:45 PDT 2009  NO_QUERY  _TheSpecialOne_   \n",
       "1  0  1467810672  Mon Apr 06 22:19:49 PDT 2009  NO_QUERY    scotthamilton   \n",
       "2  0  1467810917  Mon Apr 06 22:19:53 PDT 2009  NO_QUERY         mattycus   \n",
       "3  0  1467811184  Mon Apr 06 22:19:57 PDT 2009  NO_QUERY          ElleCTF   \n",
       "4  0  1467811193  Mon Apr 06 22:19:57 PDT 2009  NO_QUERY           Karoli   \n",
       "\n",
       "                                                   5  \n",
       "0  @switchfoot http://twitpic.com/2y1zl - Awww, t...  \n",
       "1  is upset that he can't update his Facebook by ...  \n",
       "2  @Kenichan I dived many times for the ball. Man...  \n",
       "3    my whole body feels itchy and like its on fire   \n",
       "4  @nationwideclass no, it's not behaving at all....  "
      ]
     },
     "execution_count": 4,
     "metadata": {},
     "output_type": "execute_result"
    }
   ],
   "source": [
    "df.head()"
   ]
  },
  {
   "cell_type": "markdown",
   "metadata": {},
   "source": [
    "**In the Dataset we can see that there is no column names present so we add the column names of the Data.**"
   ]
  },
  {
   "cell_type": "code",
   "execution_count": 5,
   "metadata": {},
   "outputs": [],
   "source": [
    "columns=['target','ids','date','flag','user','text']\n",
    "df.columns=columns"
   ]
  },
  {
   "cell_type": "code",
   "execution_count": 6,
   "metadata": {},
   "outputs": [
    {
     "data": {
      "text/html": [
       "<div>\n",
       "<style scoped>\n",
       "    .dataframe tbody tr th:only-of-type {\n",
       "        vertical-align: middle;\n",
       "    }\n",
       "\n",
       "    .dataframe tbody tr th {\n",
       "        vertical-align: top;\n",
       "    }\n",
       "\n",
       "    .dataframe thead th {\n",
       "        text-align: right;\n",
       "    }\n",
       "</style>\n",
       "<table border=\"1\" class=\"dataframe\">\n",
       "  <thead>\n",
       "    <tr style=\"text-align: right;\">\n",
       "      <th></th>\n",
       "      <th>target</th>\n",
       "      <th>ids</th>\n",
       "      <th>date</th>\n",
       "      <th>flag</th>\n",
       "      <th>user</th>\n",
       "      <th>text</th>\n",
       "    </tr>\n",
       "  </thead>\n",
       "  <tbody>\n",
       "    <tr>\n",
       "      <td>0</td>\n",
       "      <td>0</td>\n",
       "      <td>1467810369</td>\n",
       "      <td>Mon Apr 06 22:19:45 PDT 2009</td>\n",
       "      <td>NO_QUERY</td>\n",
       "      <td>_TheSpecialOne_</td>\n",
       "      <td>@switchfoot http://twitpic.com/2y1zl - Awww, t...</td>\n",
       "    </tr>\n",
       "    <tr>\n",
       "      <td>1</td>\n",
       "      <td>0</td>\n",
       "      <td>1467810672</td>\n",
       "      <td>Mon Apr 06 22:19:49 PDT 2009</td>\n",
       "      <td>NO_QUERY</td>\n",
       "      <td>scotthamilton</td>\n",
       "      <td>is upset that he can't update his Facebook by ...</td>\n",
       "    </tr>\n",
       "    <tr>\n",
       "      <td>2</td>\n",
       "      <td>0</td>\n",
       "      <td>1467810917</td>\n",
       "      <td>Mon Apr 06 22:19:53 PDT 2009</td>\n",
       "      <td>NO_QUERY</td>\n",
       "      <td>mattycus</td>\n",
       "      <td>@Kenichan I dived many times for the ball. Man...</td>\n",
       "    </tr>\n",
       "    <tr>\n",
       "      <td>3</td>\n",
       "      <td>0</td>\n",
       "      <td>1467811184</td>\n",
       "      <td>Mon Apr 06 22:19:57 PDT 2009</td>\n",
       "      <td>NO_QUERY</td>\n",
       "      <td>ElleCTF</td>\n",
       "      <td>my whole body feels itchy and like its on fire</td>\n",
       "    </tr>\n",
       "    <tr>\n",
       "      <td>4</td>\n",
       "      <td>0</td>\n",
       "      <td>1467811193</td>\n",
       "      <td>Mon Apr 06 22:19:57 PDT 2009</td>\n",
       "      <td>NO_QUERY</td>\n",
       "      <td>Karoli</td>\n",
       "      <td>@nationwideclass no, it's not behaving at all....</td>\n",
       "    </tr>\n",
       "  </tbody>\n",
       "</table>\n",
       "</div>"
      ],
      "text/plain": [
       "   target         ids                          date      flag  \\\n",
       "0       0  1467810369  Mon Apr 06 22:19:45 PDT 2009  NO_QUERY   \n",
       "1       0  1467810672  Mon Apr 06 22:19:49 PDT 2009  NO_QUERY   \n",
       "2       0  1467810917  Mon Apr 06 22:19:53 PDT 2009  NO_QUERY   \n",
       "3       0  1467811184  Mon Apr 06 22:19:57 PDT 2009  NO_QUERY   \n",
       "4       0  1467811193  Mon Apr 06 22:19:57 PDT 2009  NO_QUERY   \n",
       "\n",
       "              user                                               text  \n",
       "0  _TheSpecialOne_  @switchfoot http://twitpic.com/2y1zl - Awww, t...  \n",
       "1    scotthamilton  is upset that he can't update his Facebook by ...  \n",
       "2         mattycus  @Kenichan I dived many times for the ball. Man...  \n",
       "3          ElleCTF    my whole body feels itchy and like its on fire   \n",
       "4           Karoli  @nationwideclass no, it's not behaving at all....  "
      ]
     },
     "execution_count": 6,
     "metadata": {},
     "output_type": "execute_result"
    }
   ],
   "source": [
    "df.head()"
   ]
  },
  {
   "cell_type": "markdown",
   "metadata": {},
   "source": [
    "**Replacing the target Values by Positive,Negative and Neutral**"
   ]
  },
  {
   "cell_type": "code",
   "execution_count": 7,
   "metadata": {},
   "outputs": [],
   "source": [
    "df.target.replace({0:'Negative',2:'Neutral',4:'Positive'},inplace=True)"
   ]
  },
  {
   "cell_type": "code",
   "execution_count": 8,
   "metadata": {},
   "outputs": [
    {
     "data": {
      "text/html": [
       "<div>\n",
       "<style scoped>\n",
       "    .dataframe tbody tr th:only-of-type {\n",
       "        vertical-align: middle;\n",
       "    }\n",
       "\n",
       "    .dataframe tbody tr th {\n",
       "        vertical-align: top;\n",
       "    }\n",
       "\n",
       "    .dataframe thead th {\n",
       "        text-align: right;\n",
       "    }\n",
       "</style>\n",
       "<table border=\"1\" class=\"dataframe\">\n",
       "  <thead>\n",
       "    <tr style=\"text-align: right;\">\n",
       "      <th></th>\n",
       "      <th>target</th>\n",
       "      <th>ids</th>\n",
       "      <th>date</th>\n",
       "      <th>flag</th>\n",
       "      <th>user</th>\n",
       "      <th>text</th>\n",
       "    </tr>\n",
       "  </thead>\n",
       "  <tbody>\n",
       "    <tr>\n",
       "      <td>0</td>\n",
       "      <td>Negative</td>\n",
       "      <td>1467810369</td>\n",
       "      <td>Mon Apr 06 22:19:45 PDT 2009</td>\n",
       "      <td>NO_QUERY</td>\n",
       "      <td>_TheSpecialOne_</td>\n",
       "      <td>@switchfoot http://twitpic.com/2y1zl - Awww, t...</td>\n",
       "    </tr>\n",
       "    <tr>\n",
       "      <td>1</td>\n",
       "      <td>Negative</td>\n",
       "      <td>1467810672</td>\n",
       "      <td>Mon Apr 06 22:19:49 PDT 2009</td>\n",
       "      <td>NO_QUERY</td>\n",
       "      <td>scotthamilton</td>\n",
       "      <td>is upset that he can't update his Facebook by ...</td>\n",
       "    </tr>\n",
       "    <tr>\n",
       "      <td>2</td>\n",
       "      <td>Negative</td>\n",
       "      <td>1467810917</td>\n",
       "      <td>Mon Apr 06 22:19:53 PDT 2009</td>\n",
       "      <td>NO_QUERY</td>\n",
       "      <td>mattycus</td>\n",
       "      <td>@Kenichan I dived many times for the ball. Man...</td>\n",
       "    </tr>\n",
       "    <tr>\n",
       "      <td>3</td>\n",
       "      <td>Negative</td>\n",
       "      <td>1467811184</td>\n",
       "      <td>Mon Apr 06 22:19:57 PDT 2009</td>\n",
       "      <td>NO_QUERY</td>\n",
       "      <td>ElleCTF</td>\n",
       "      <td>my whole body feels itchy and like its on fire</td>\n",
       "    </tr>\n",
       "    <tr>\n",
       "      <td>4</td>\n",
       "      <td>Negative</td>\n",
       "      <td>1467811193</td>\n",
       "      <td>Mon Apr 06 22:19:57 PDT 2009</td>\n",
       "      <td>NO_QUERY</td>\n",
       "      <td>Karoli</td>\n",
       "      <td>@nationwideclass no, it's not behaving at all....</td>\n",
       "    </tr>\n",
       "  </tbody>\n",
       "</table>\n",
       "</div>"
      ],
      "text/plain": [
       "     target         ids                          date      flag  \\\n",
       "0  Negative  1467810369  Mon Apr 06 22:19:45 PDT 2009  NO_QUERY   \n",
       "1  Negative  1467810672  Mon Apr 06 22:19:49 PDT 2009  NO_QUERY   \n",
       "2  Negative  1467810917  Mon Apr 06 22:19:53 PDT 2009  NO_QUERY   \n",
       "3  Negative  1467811184  Mon Apr 06 22:19:57 PDT 2009  NO_QUERY   \n",
       "4  Negative  1467811193  Mon Apr 06 22:19:57 PDT 2009  NO_QUERY   \n",
       "\n",
       "              user                                               text  \n",
       "0  _TheSpecialOne_  @switchfoot http://twitpic.com/2y1zl - Awww, t...  \n",
       "1    scotthamilton  is upset that he can't update his Facebook by ...  \n",
       "2         mattycus  @Kenichan I dived many times for the ball. Man...  \n",
       "3          ElleCTF    my whole body feels itchy and like its on fire   \n",
       "4           Karoli  @nationwideclass no, it's not behaving at all....  "
      ]
     },
     "execution_count": 8,
     "metadata": {},
     "output_type": "execute_result"
    }
   ],
   "source": [
    "df.head()"
   ]
  },
  {
   "cell_type": "markdown",
   "metadata": {},
   "source": [
    "**Data Preprocessing**\n",
    "\n",
    "1. Tweets contains a lot of emoticons, abbreviations and creative ways of expressing excitment such as long tailing (ex. happyyyy). We normalize\n",
    "   all letters to lowercase and remove any ”@USERNAME” and ”#hashtag” because they did not affect the sentiment of text.\n",
    "   \n",
    "2. Removing Stopwords\n",
    "3. Stemming\n"
   ]
  },
  {
   "cell_type": "code",
   "execution_count": 9,
   "metadata": {},
   "outputs": [],
   "source": [
    "stop_words=set(stopwords.words('english'))\n",
    "stop_words.remove('not')"
   ]
  },
  {
   "cell_type": "code",
   "execution_count": 10,
   "metadata": {},
   "outputs": [],
   "source": [
    "\n",
    "corpus=[]\n",
    "for i in range(0,len(df)):\n",
    "    review=re.sub('@\\S+|https?:\\S+|http?:\\S|[^A-Za-z0-9]+',' ',df['text'][i])\n",
    "    review=review.lower()\n",
    "    review=review.split()\n",
    "    review=[word for word in review if not word in stop_words]\n",
    "    review=' '.join(review)\n",
    "    corpus.append(review)"
   ]
  },
  {
   "cell_type": "markdown",
   "metadata": {},
   "source": [
    "**Replacing the text column with preprocessed text**"
   ]
  },
  {
   "cell_type": "code",
   "execution_count": 11,
   "metadata": {},
   "outputs": [],
   "source": [
    "df.text=corpus"
   ]
  },
  {
   "cell_type": "code",
   "execution_count": 12,
   "metadata": {},
   "outputs": [
    {
     "data": {
      "text/html": [
       "<div>\n",
       "<style scoped>\n",
       "    .dataframe tbody tr th:only-of-type {\n",
       "        vertical-align: middle;\n",
       "    }\n",
       "\n",
       "    .dataframe tbody tr th {\n",
       "        vertical-align: top;\n",
       "    }\n",
       "\n",
       "    .dataframe thead th {\n",
       "        text-align: right;\n",
       "    }\n",
       "</style>\n",
       "<table border=\"1\" class=\"dataframe\">\n",
       "  <thead>\n",
       "    <tr style=\"text-align: right;\">\n",
       "      <th></th>\n",
       "      <th>target</th>\n",
       "      <th>ids</th>\n",
       "      <th>date</th>\n",
       "      <th>flag</th>\n",
       "      <th>user</th>\n",
       "      <th>text</th>\n",
       "    </tr>\n",
       "  </thead>\n",
       "  <tbody>\n",
       "    <tr>\n",
       "      <td>0</td>\n",
       "      <td>Negative</td>\n",
       "      <td>1467810369</td>\n",
       "      <td>Mon Apr 06 22:19:45 PDT 2009</td>\n",
       "      <td>NO_QUERY</td>\n",
       "      <td>_TheSpecialOne_</td>\n",
       "      <td>awww bummer shoulda got david carr third day</td>\n",
       "    </tr>\n",
       "    <tr>\n",
       "      <td>1</td>\n",
       "      <td>Negative</td>\n",
       "      <td>1467810672</td>\n",
       "      <td>Mon Apr 06 22:19:49 PDT 2009</td>\n",
       "      <td>NO_QUERY</td>\n",
       "      <td>scotthamilton</td>\n",
       "      <td>upset update facebook texting might cry result...</td>\n",
       "    </tr>\n",
       "    <tr>\n",
       "      <td>2</td>\n",
       "      <td>Negative</td>\n",
       "      <td>1467810917</td>\n",
       "      <td>Mon Apr 06 22:19:53 PDT 2009</td>\n",
       "      <td>NO_QUERY</td>\n",
       "      <td>mattycus</td>\n",
       "      <td>dived many times ball managed save 50 rest go ...</td>\n",
       "    </tr>\n",
       "    <tr>\n",
       "      <td>3</td>\n",
       "      <td>Negative</td>\n",
       "      <td>1467811184</td>\n",
       "      <td>Mon Apr 06 22:19:57 PDT 2009</td>\n",
       "      <td>NO_QUERY</td>\n",
       "      <td>ElleCTF</td>\n",
       "      <td>whole body feels itchy like fire</td>\n",
       "    </tr>\n",
       "    <tr>\n",
       "      <td>4</td>\n",
       "      <td>Negative</td>\n",
       "      <td>1467811193</td>\n",
       "      <td>Mon Apr 06 22:19:57 PDT 2009</td>\n",
       "      <td>NO_QUERY</td>\n",
       "      <td>Karoli</td>\n",
       "      <td>not behaving mad see</td>\n",
       "    </tr>\n",
       "  </tbody>\n",
       "</table>\n",
       "</div>"
      ],
      "text/plain": [
       "     target         ids                          date      flag  \\\n",
       "0  Negative  1467810369  Mon Apr 06 22:19:45 PDT 2009  NO_QUERY   \n",
       "1  Negative  1467810672  Mon Apr 06 22:19:49 PDT 2009  NO_QUERY   \n",
       "2  Negative  1467810917  Mon Apr 06 22:19:53 PDT 2009  NO_QUERY   \n",
       "3  Negative  1467811184  Mon Apr 06 22:19:57 PDT 2009  NO_QUERY   \n",
       "4  Negative  1467811193  Mon Apr 06 22:19:57 PDT 2009  NO_QUERY   \n",
       "\n",
       "              user                                               text  \n",
       "0  _TheSpecialOne_       awww bummer shoulda got david carr third day  \n",
       "1    scotthamilton  upset update facebook texting might cry result...  \n",
       "2         mattycus  dived many times ball managed save 50 rest go ...  \n",
       "3          ElleCTF                   whole body feels itchy like fire  \n",
       "4           Karoli                               not behaving mad see  "
      ]
     },
     "execution_count": 12,
     "metadata": {},
     "output_type": "execute_result"
    }
   ],
   "source": [
    "df.head()"
   ]
  },
  {
   "cell_type": "markdown",
   "metadata": {},
   "source": [
    "**Splitting the Data into Training and Test set**"
   ]
  },
  {
   "cell_type": "code",
   "execution_count": 13,
   "metadata": {},
   "outputs": [],
   "source": [
    "from sklearn.model_selection import train_test_split\n",
    "train_df,test_df=train_test_split(df,test_size=0.20,random_state=123)"
   ]
  },
  {
   "cell_type": "code",
   "execution_count": 14,
   "metadata": {},
   "outputs": [
    {
     "data": {
      "text/html": [
       "<div>\n",
       "<style scoped>\n",
       "    .dataframe tbody tr th:only-of-type {\n",
       "        vertical-align: middle;\n",
       "    }\n",
       "\n",
       "    .dataframe tbody tr th {\n",
       "        vertical-align: top;\n",
       "    }\n",
       "\n",
       "    .dataframe thead th {\n",
       "        text-align: right;\n",
       "    }\n",
       "</style>\n",
       "<table border=\"1\" class=\"dataframe\">\n",
       "  <thead>\n",
       "    <tr style=\"text-align: right;\">\n",
       "      <th></th>\n",
       "      <th>target</th>\n",
       "      <th>ids</th>\n",
       "      <th>date</th>\n",
       "      <th>flag</th>\n",
       "      <th>user</th>\n",
       "      <th>text</th>\n",
       "    </tr>\n",
       "  </thead>\n",
       "  <tbody>\n",
       "    <tr>\n",
       "      <td>1578903</td>\n",
       "      <td>Positive</td>\n",
       "      <td>2189875205</td>\n",
       "      <td>Tue Jun 16 01:08:25 PDT 2009</td>\n",
       "      <td>NO_QUERY</td>\n",
       "      <td>silent_serenade</td>\n",
       "      <td>withholding information shae yup</td>\n",
       "    </tr>\n",
       "    <tr>\n",
       "      <td>51568</td>\n",
       "      <td>Negative</td>\n",
       "      <td>1679002293</td>\n",
       "      <td>Sat May 02 08:17:21 PDT 2009</td>\n",
       "      <td>NO_QUERY</td>\n",
       "      <td>tommytrc</td>\n",
       "      <td>uhhh ummmmm yes dear keep coming tweetups prom...</td>\n",
       "    </tr>\n",
       "    <tr>\n",
       "      <td>569210</td>\n",
       "      <td>Negative</td>\n",
       "      <td>2207868145</td>\n",
       "      <td>Wed Jun 17 08:29:12 PDT 2009</td>\n",
       "      <td>NO_QUERY</td>\n",
       "      <td>nikkikikicoco</td>\n",
       "      <td>amazing time wannqa come home come back suitca...</td>\n",
       "    </tr>\n",
       "    <tr>\n",
       "      <td>71896</td>\n",
       "      <td>Negative</td>\n",
       "      <td>1694083746</td>\n",
       "      <td>Mon May 04 01:00:43 PDT 2009</td>\n",
       "      <td>NO_QUERY</td>\n",
       "      <td>bszafko</td>\n",
       "      <td>ouch wrist hurts gym accident see surgeon</td>\n",
       "    </tr>\n",
       "    <tr>\n",
       "      <td>405089</td>\n",
       "      <td>Negative</td>\n",
       "      <td>2058584282</td>\n",
       "      <td>Sat Jun 06 15:13:45 PDT 2009</td>\n",
       "      <td>NO_QUERY</td>\n",
       "      <td>carolduff</td>\n",
       "      <td>going crazy work school</td>\n",
       "    </tr>\n",
       "  </tbody>\n",
       "</table>\n",
       "</div>"
      ],
      "text/plain": [
       "           target         ids                          date      flag  \\\n",
       "1578903  Positive  2189875205  Tue Jun 16 01:08:25 PDT 2009  NO_QUERY   \n",
       "51568    Negative  1679002293  Sat May 02 08:17:21 PDT 2009  NO_QUERY   \n",
       "569210   Negative  2207868145  Wed Jun 17 08:29:12 PDT 2009  NO_QUERY   \n",
       "71896    Negative  1694083746  Mon May 04 01:00:43 PDT 2009  NO_QUERY   \n",
       "405089   Negative  2058584282  Sat Jun 06 15:13:45 PDT 2009  NO_QUERY   \n",
       "\n",
       "                    user                                               text  \n",
       "1578903  silent_serenade                   withholding information shae yup  \n",
       "51568           tommytrc  uhhh ummmmm yes dear keep coming tweetups prom...  \n",
       "569210     nikkikikicoco  amazing time wannqa come home come back suitca...  \n",
       "71896            bszafko          ouch wrist hurts gym accident see surgeon  \n",
       "405089         carolduff                            going crazy work school  "
      ]
     },
     "execution_count": 14,
     "metadata": {},
     "output_type": "execute_result"
    }
   ],
   "source": [
    "train_df.head()"
   ]
  },
  {
   "cell_type": "code",
   "execution_count": 15,
   "metadata": {},
   "outputs": [
    {
     "data": {
      "text/html": [
       "<div>\n",
       "<style scoped>\n",
       "    .dataframe tbody tr th:only-of-type {\n",
       "        vertical-align: middle;\n",
       "    }\n",
       "\n",
       "    .dataframe tbody tr th {\n",
       "        vertical-align: top;\n",
       "    }\n",
       "\n",
       "    .dataframe thead th {\n",
       "        text-align: right;\n",
       "    }\n",
       "</style>\n",
       "<table border=\"1\" class=\"dataframe\">\n",
       "  <thead>\n",
       "    <tr style=\"text-align: right;\">\n",
       "      <th></th>\n",
       "      <th>target</th>\n",
       "      <th>ids</th>\n",
       "      <th>date</th>\n",
       "      <th>flag</th>\n",
       "      <th>user</th>\n",
       "      <th>text</th>\n",
       "    </tr>\n",
       "  </thead>\n",
       "  <tbody>\n",
       "    <tr>\n",
       "      <td>448282</td>\n",
       "      <td>Negative</td>\n",
       "      <td>2068921155</td>\n",
       "      <td>Sun Jun 07 14:56:42 PDT 2009</td>\n",
       "      <td>NO_QUERY</td>\n",
       "      <td>smiley_sophie</td>\n",
       "      <td>arm still hurts pulled yesterday</td>\n",
       "    </tr>\n",
       "    <tr>\n",
       "      <td>1475261</td>\n",
       "      <td>Positive</td>\n",
       "      <td>2065871668</td>\n",
       "      <td>Sun Jun 07 09:27:21 PDT 2009</td>\n",
       "      <td>NO_QUERY</td>\n",
       "      <td>ImmaChocoholic</td>\n",
       "      <td>much outside looking 4 years w energy totally ...</td>\n",
       "    </tr>\n",
       "    <tr>\n",
       "      <td>132529</td>\n",
       "      <td>Negative</td>\n",
       "      <td>1835774749</td>\n",
       "      <td>Mon May 18 06:43:27 PDT 2009</td>\n",
       "      <td>NO_QUERY</td>\n",
       "      <td>drmomentum</td>\n",
       "      <td>yes knew clusterfark way since right phd annou...</td>\n",
       "    </tr>\n",
       "    <tr>\n",
       "      <td>182348</td>\n",
       "      <td>Negative</td>\n",
       "      <td>1967121891</td>\n",
       "      <td>Fri May 29 19:00:46 PDT 2009</td>\n",
       "      <td>NO_QUERY</td>\n",
       "      <td>sweetsheilx</td>\n",
       "      <td>woke feel relieved haha go work 2 hours</td>\n",
       "    </tr>\n",
       "    <tr>\n",
       "      <td>907614</td>\n",
       "      <td>Positive</td>\n",
       "      <td>1695846172</td>\n",
       "      <td>Mon May 04 07:04:29 PDT 2009</td>\n",
       "      <td>NO_QUERY</td>\n",
       "      <td>monmariej</td>\n",
       "      <td>loving hot weather forecast rest week summer a...</td>\n",
       "    </tr>\n",
       "  </tbody>\n",
       "</table>\n",
       "</div>"
      ],
      "text/plain": [
       "           target         ids                          date      flag  \\\n",
       "448282   Negative  2068921155  Sun Jun 07 14:56:42 PDT 2009  NO_QUERY   \n",
       "1475261  Positive  2065871668  Sun Jun 07 09:27:21 PDT 2009  NO_QUERY   \n",
       "132529   Negative  1835774749  Mon May 18 06:43:27 PDT 2009  NO_QUERY   \n",
       "182348   Negative  1967121891  Fri May 29 19:00:46 PDT 2009  NO_QUERY   \n",
       "907614   Positive  1695846172  Mon May 04 07:04:29 PDT 2009  NO_QUERY   \n",
       "\n",
       "                   user                                               text  \n",
       "448282    smiley_sophie                   arm still hurts pulled yesterday  \n",
       "1475261  ImmaChocoholic  much outside looking 4 years w energy totally ...  \n",
       "132529       drmomentum  yes knew clusterfark way since right phd annou...  \n",
       "182348      sweetsheilx            woke feel relieved haha go work 2 hours  \n",
       "907614        monmariej  loving hot weather forecast rest week summer a...  "
      ]
     },
     "execution_count": 15,
     "metadata": {},
     "output_type": "execute_result"
    }
   ],
   "source": [
    "test_df.head()"
   ]
  },
  {
   "cell_type": "markdown",
   "metadata": {},
   "source": [
    "**Word2Vec Model**"
   ]
  },
  {
   "cell_type": "code",
   "execution_count": 16,
   "metadata": {},
   "outputs": [],
   "source": [
    "documents = [text.split() for text in train_df.text]"
   ]
  },
  {
   "cell_type": "code",
   "execution_count": 17,
   "metadata": {},
   "outputs": [],
   "source": [
    "w2v_model = gensim.models.word2vec.Word2Vec(size=300, \n",
    "                                            window=7, \n",
    "                                            min_count=10, \n",
    "                                            workers=8)"
   ]
  },
  {
   "cell_type": "code",
   "execution_count": 18,
   "metadata": {},
   "outputs": [],
   "source": [
    "w2v_model.build_vocab(documents)"
   ]
  },
  {
   "cell_type": "code",
   "execution_count": 19,
   "metadata": {},
   "outputs": [
    {
     "name": "stdout",
     "output_type": "stream",
     "text": [
      "Vocab size 30446\n"
     ]
    }
   ],
   "source": [
    "words = w2v_model.wv.vocab.keys()\n",
    "vocab_size = len(words)\n",
    "print(\"Vocab size\", vocab_size)"
   ]
  },
  {
   "cell_type": "code",
   "execution_count": 20,
   "metadata": {},
   "outputs": [
    {
     "data": {
      "text/plain": [
       "(248022406, 279410310)"
      ]
     },
     "execution_count": 20,
     "metadata": {},
     "output_type": "execute_result"
    }
   ],
   "source": [
    "w2v_model.train(documents, total_examples=len(documents), epochs=30)"
   ]
  },
  {
   "cell_type": "code",
   "execution_count": 21,
   "metadata": {},
   "outputs": [
    {
     "data": {
      "text/plain": [
       "[('great', 0.6847133636474609),\n",
       " ('goood', 0.5690605044364929),\n",
       " ('bad', 0.5670144557952881),\n",
       " ('gooood', 0.5134822726249695),\n",
       " ('nice', 0.49848103523254395),\n",
       " ('gooooood', 0.48290708661079407),\n",
       " ('goooood', 0.4815499186515808),\n",
       " ('gd', 0.4717402458190918),\n",
       " ('gud', 0.4564526081085205),\n",
       " ('rough', 0.4515617787837982)]"
      ]
     },
     "execution_count": 21,
     "metadata": {},
     "output_type": "execute_result"
    }
   ],
   "source": [
    "w2v_model.wv.most_similar(\"good\")"
   ]
  },
  {
   "cell_type": "code",
   "execution_count": 22,
   "metadata": {},
   "outputs": [
    {
     "data": {
      "text/plain": [
       "[('hates', 0.5498852729797363),\n",
       " ('sucks', 0.515131950378418),\n",
       " ('stupid', 0.46708351373672485),\n",
       " ('suck', 0.4642332196235657),\n",
       " ('hating', 0.4504605531692505),\n",
       " ('dislike', 0.4503435492515564),\n",
       " ('h8', 0.4350648820400238),\n",
       " ('despise', 0.42568373680114746),\n",
       " ('ugh', 0.4190252125263214),\n",
       " ('annoying', 0.4187946319580078)]"
      ]
     },
     "execution_count": 22,
     "metadata": {},
     "output_type": "execute_result"
    }
   ],
   "source": [
    "w2v_model.wv.most_similar(\"hate\")"
   ]
  },
  {
   "cell_type": "code",
   "execution_count": 23,
   "metadata": {},
   "outputs": [
    {
     "data": {
      "text/plain": [
       "[('fantastic', 0.7349485158920288),\n",
       " ('wonderful', 0.7049806118011475),\n",
       " ('awesome', 0.6906716227531433),\n",
       " ('good', 0.6847133636474609),\n",
       " ('fabulous', 0.6458703279495239),\n",
       " ('amazing', 0.6445280313491821),\n",
       " ('fab', 0.6124848127365112),\n",
       " ('nice', 0.5848145484924316),\n",
       " ('excellent', 0.5773996710777283),\n",
       " ('gr8', 0.5738492012023926)]"
      ]
     },
     "execution_count": 23,
     "metadata": {},
     "output_type": "execute_result"
    }
   ],
   "source": [
    "w2v_model.wv.most_similar(\"great\")"
   ]
  },
  {
   "cell_type": "code",
   "execution_count": 24,
   "metadata": {},
   "outputs": [],
   "source": [
    "tokenizer = Tokenizer()\n",
    "tokenizer.fit_on_texts(train_df.text)"
   ]
  },
  {
   "cell_type": "code",
   "execution_count": 25,
   "metadata": {},
   "outputs": [
    {
     "data": {
      "text/plain": [
       "{'not': 1,\n",
       " 'good': 2,\n",
       " 'day': 3,\n",
       " 'get': 4,\n",
       " 'like': 5,\n",
       " 'go': 6,\n",
       " 'quot': 7,\n",
       " 'today': 8,\n",
       " 'work': 9,\n",
       " 'love': 10,\n",
       " 'going': 11,\n",
       " 'got': 12,\n",
       " 'lol': 13,\n",
       " 'time': 14,\n",
       " 'back': 15,\n",
       " 'u': 16,\n",
       " 'one': 17,\n",
       " 'know': 18,\n",
       " 'im': 19,\n",
       " 'really': 20,\n",
       " 'amp': 21,\n",
       " 'see': 22,\n",
       " 'night': 23,\n",
       " 'still': 24,\n",
       " '2': 25,\n",
       " 'well': 26,\n",
       " 'want': 27,\n",
       " 'new': 28,\n",
       " 'think': 29,\n",
       " 'home': 30,\n",
       " 'thanks': 31,\n",
       " 'oh': 32,\n",
       " 'much': 33,\n",
       " 'miss': 34,\n",
       " 'need': 35,\n",
       " 'last': 36,\n",
       " 'morning': 37,\n",
       " 'tomorrow': 38,\n",
       " 'hope': 39,\n",
       " 'great': 40,\n",
       " 'twitter': 41,\n",
       " '3': 42,\n",
       " 'haha': 43,\n",
       " 'feel': 44,\n",
       " 'sad': 45,\n",
       " 'fun': 46,\n",
       " 'wish': 47,\n",
       " 'sleep': 48,\n",
       " 'right': 49,\n",
       " 'would': 50,\n",
       " 'bad': 51,\n",
       " 'happy': 52,\n",
       " 'sorry': 53,\n",
       " 'tonight': 54,\n",
       " 'come': 55,\n",
       " 'make': 56,\n",
       " 'way': 57,\n",
       " 'getting': 58,\n",
       " 'though': 59,\n",
       " 'gonna': 60,\n",
       " 'nice': 61,\n",
       " 'better': 62,\n",
       " 'watching': 63,\n",
       " 'yeah': 64,\n",
       " 'wait': 65,\n",
       " 'bed': 66,\n",
       " 'could': 67,\n",
       " 'week': 68,\n",
       " 'school': 69,\n",
       " 'people': 70,\n",
       " 'hate': 71,\n",
       " 'days': 72,\n",
       " 'even': 73,\n",
       " 'hey': 74,\n",
       " 'next': 75,\n",
       " '4': 76,\n",
       " 'yes': 77,\n",
       " 'weekend': 78,\n",
       " 'lt': 79,\n",
       " 'awesome': 80,\n",
       " 'dont': 81,\n",
       " 'thank': 82,\n",
       " 'never': 83,\n",
       " 'soon': 84,\n",
       " 'cant': 85,\n",
       " 'take': 86,\n",
       " 'long': 87,\n",
       " 'working': 88,\n",
       " 'little': 89,\n",
       " 'first': 90,\n",
       " 'wanna': 91,\n",
       " 'please': 92,\n",
       " 'say': 93,\n",
       " 'best': 94,\n",
       " 'everyone': 95,\n",
       " 'show': 96,\n",
       " 'tired': 97,\n",
       " 'ok': 98,\n",
       " 'life': 99,\n",
       " 'sick': 100,\n",
       " 'watch': 101,\n",
       " 'done': 102,\n",
       " 'feeling': 103,\n",
       " '1': 104,\n",
       " 'let': 105,\n",
       " 'always': 106,\n",
       " 'sure': 107,\n",
       " 'thing': 108,\n",
       " 'x': 109,\n",
       " 'already': 110,\n",
       " 'another': 111,\n",
       " 'friends': 112,\n",
       " 'cool': 113,\n",
       " 'us': 114,\n",
       " 'something': 115,\n",
       " 'find': 116,\n",
       " 'man': 117,\n",
       " 'guys': 118,\n",
       " 'ready': 119,\n",
       " 'made': 120,\n",
       " 'looking': 121,\n",
       " 'yay': 122,\n",
       " 'phone': 123,\n",
       " 'yet': 124,\n",
       " 'look': 125,\n",
       " 'went': 126,\n",
       " 'hours': 127,\n",
       " 'house': 128,\n",
       " 'ur': 129,\n",
       " 'movie': 130,\n",
       " 'ever': 131,\n",
       " 'pretty': 132,\n",
       " 'maybe': 133,\n",
       " 'n': 134,\n",
       " 'trying': 135,\n",
       " 'omg': 136,\n",
       " 'away': 137,\n",
       " 'summer': 138,\n",
       " 'tweet': 139,\n",
       " 'finally': 140,\n",
       " 'old': 141,\n",
       " '5': 142,\n",
       " 'early': 143,\n",
       " 'help': 144,\n",
       " 'amazing': 145,\n",
       " 'damn': 146,\n",
       " 'follow': 147,\n",
       " 'things': 148,\n",
       " 'someone': 149,\n",
       " 'lost': 150,\n",
       " 'guess': 151,\n",
       " 'left': 152,\n",
       " 'friend': 153,\n",
       " 'keep': 154,\n",
       " 'big': 155,\n",
       " 'year': 156,\n",
       " 'wow': 157,\n",
       " 'thought': 158,\n",
       " 'bit': 159,\n",
       " 'hot': 160,\n",
       " 'missed': 161,\n",
       " 'ya': 162,\n",
       " 'nothing': 163,\n",
       " 'rain': 164,\n",
       " 'sucks': 165,\n",
       " 'bored': 166,\n",
       " 'glad': 167,\n",
       " 'girl': 168,\n",
       " 'try': 169,\n",
       " 'start': 170,\n",
       " 'tell': 171,\n",
       " 'also': 172,\n",
       " 'birthday': 173,\n",
       " 'baby': 174,\n",
       " 'looks': 175,\n",
       " 'live': 176,\n",
       " 'coming': 177,\n",
       " 'sun': 178,\n",
       " 'weather': 179,\n",
       " 'later': 180,\n",
       " 'two': 181,\n",
       " 'song': 182,\n",
       " 'w': 183,\n",
       " 'actually': 184,\n",
       " 'hear': 185,\n",
       " 'ugh': 186,\n",
       " 'saw': 187,\n",
       " 'party': 188,\n",
       " 'stuff': 189,\n",
       " 'makes': 190,\n",
       " 'waiting': 191,\n",
       " 'excited': 192,\n",
       " 'might': 193,\n",
       " 'play': 194,\n",
       " 'hard': 195,\n",
       " 'game': 196,\n",
       " 'said': 197,\n",
       " 'god': 198,\n",
       " 'yesterday': 199,\n",
       " 'thats': 200,\n",
       " 'since': 201,\n",
       " 'world': 202,\n",
       " 'hi': 203,\n",
       " 'gotta': 204,\n",
       " 'lot': 205,\n",
       " 'late': 206,\n",
       " 'around': 207,\n",
       " 'mom': 208,\n",
       " 'music': 209,\n",
       " 'car': 210,\n",
       " 'sounds': 211,\n",
       " 'many': 212,\n",
       " 'check': 213,\n",
       " 'b': 214,\n",
       " 'luck': 215,\n",
       " 'friday': 216,\n",
       " 'must': 217,\n",
       " 'head': 218,\n",
       " 'found': 219,\n",
       " 'r': 220,\n",
       " 'cold': 221,\n",
       " 'give': 222,\n",
       " 'job': 223,\n",
       " 'read': 224,\n",
       " 'call': 225,\n",
       " 'sunday': 226,\n",
       " 'aww': 227,\n",
       " 'making': 228,\n",
       " 'beautiful': 229,\n",
       " 'gone': 230,\n",
       " 'may': 231,\n",
       " 'talk': 232,\n",
       " 'missing': 233,\n",
       " 'com': 234,\n",
       " 'put': 235,\n",
       " 'anything': 236,\n",
       " 'monday': 237,\n",
       " 'poor': 238,\n",
       " 'stop': 239,\n",
       " 'woke': 240,\n",
       " 'least': 241,\n",
       " 'till': 242,\n",
       " 'almost': 243,\n",
       " 'leave': 244,\n",
       " 'hair': 245,\n",
       " 'family': 246,\n",
       " 'lunch': 247,\n",
       " 'free': 248,\n",
       " 'use': 249,\n",
       " 'tho': 250,\n",
       " 'okay': 251,\n",
       " 'times': 252,\n",
       " 'cute': 253,\n",
       " 'far': 254,\n",
       " 'food': 255,\n",
       " 'hurts': 256,\n",
       " 'end': 257,\n",
       " 'iphone': 258,\n",
       " 'wanted': 259,\n",
       " 'mean': 260,\n",
       " 'hour': 261,\n",
       " 'listening': 262,\n",
       " 'eat': 263,\n",
       " 'dinner': 264,\n",
       " '10': 265,\n",
       " 'funny': 266,\n",
       " 'everything': 267,\n",
       " 'enjoy': 268,\n",
       " 'gt': 269,\n",
       " 'followers': 270,\n",
       " 'anyone': 271,\n",
       " 'finished': 272,\n",
       " 'playing': 273,\n",
       " 'welcome': 274,\n",
       " 'sweet': 275,\n",
       " 'believe': 276,\n",
       " 'shit': 277,\n",
       " 'forward': 278,\n",
       " 'thinking': 279,\n",
       " '6': 280,\n",
       " 'without': 281,\n",
       " 'video': 282,\n",
       " 'cause': 283,\n",
       " 'hahaha': 284,\n",
       " 'totally': 285,\n",
       " 'mine': 286,\n",
       " 'coffee': 287,\n",
       " 'stupid': 288,\n",
       " 'outside': 289,\n",
       " 'enough': 290,\n",
       " 'real': 291,\n",
       " 'buy': 292,\n",
       " 'ill': 293,\n",
       " 'every': 294,\n",
       " 'anymore': 295,\n",
       " 'didnt': 296,\n",
       " 'wrong': 297,\n",
       " 'p': 298,\n",
       " 'probably': 299,\n",
       " 'room': 300,\n",
       " 'weeks': 301,\n",
       " 'tweets': 302,\n",
       " 'eating': 303,\n",
       " 'ha': 304,\n",
       " 'place': 305,\n",
       " 'tv': 306,\n",
       " 'money': 307,\n",
       " 'stay': 308,\n",
       " 'c': 309,\n",
       " 'dad': 310,\n",
       " 'wants': 311,\n",
       " 'busy': 312,\n",
       " 'sooo': 313,\n",
       " 'win': 314,\n",
       " 'following': 315,\n",
       " 'xx': 316,\n",
       " 'lovely': 317,\n",
       " 'saturday': 318,\n",
       " '30': 319,\n",
       " 'seen': 320,\n",
       " 'pic': 321,\n",
       " 'kinda': 322,\n",
       " 'class': 323,\n",
       " 'whole': 324,\n",
       " 'says': 325,\n",
       " 'taking': 326,\n",
       " '8': 327,\n",
       " 'came': 328,\n",
       " '7': 329,\n",
       " 'kids': 330,\n",
       " 'hopefully': 331,\n",
       " 'beach': 332,\n",
       " 'crazy': 333,\n",
       " 'headache': 334,\n",
       " 'exam': 335,\n",
       " 'super': 336,\n",
       " 'name': 337,\n",
       " 'took': 338,\n",
       " 'half': 339,\n",
       " 'awww': 340,\n",
       " 'guy': 341,\n",
       " 'news': 342,\n",
       " 'true': 343,\n",
       " 'hello': 344,\n",
       " 'hell': 345,\n",
       " 'idea': 346,\n",
       " 'goodnight': 347,\n",
       " 'post': 348,\n",
       " 'book': 349,\n",
       " 'face': 350,\n",
       " 'years': 351,\n",
       " 'ago': 352,\n",
       " 'able': 353,\n",
       " 'lots': 354,\n",
       " 'run': 355,\n",
       " 'else': 356,\n",
       " 'forgot': 357,\n",
       " 'meet': 358,\n",
       " 'reading': 359,\n",
       " 'full': 360,\n",
       " 'shopping': 361,\n",
       " 'leaving': 362,\n",
       " 'either': 363,\n",
       " 'sitting': 364,\n",
       " 'rest': 365,\n",
       " 'girls': 366,\n",
       " 'computer': 367,\n",
       " 'send': 368,\n",
       " 'used': 369,\n",
       " 'ah': 370,\n",
       " 'feels': 371,\n",
       " 'soo': 372,\n",
       " 'boo': 373,\n",
       " 'hurt': 374,\n",
       " 'cuz': 375,\n",
       " 'blog': 376,\n",
       " 'remember': 377,\n",
       " 'seems': 378,\n",
       " 'raining': 379,\n",
       " 'hehe': 380,\n",
       " 'alone': 381,\n",
       " 'watched': 382,\n",
       " 'office': 383,\n",
       " 'dog': 384,\n",
       " 'talking': 385,\n",
       " 'fuck': 386,\n",
       " 'hit': 387,\n",
       " 'heart': 388,\n",
       " 'btw': 389,\n",
       " 'tried': 390,\n",
       " 'trip': 391,\n",
       " 'needs': 392,\n",
       " 'heard': 393,\n",
       " 'stuck': 394,\n",
       " 'mind': 395,\n",
       " 'internet': 396,\n",
       " 'kind': 397,\n",
       " 'course': 398,\n",
       " 'www': 399,\n",
       " 'part': 400,\n",
       " 'wont': 401,\n",
       " 'started': 402,\n",
       " 'boy': 403,\n",
       " 'seeing': 404,\n",
       " 'online': 405,\n",
       " 'quite': 406,\n",
       " 'awake': 407,\n",
       " 'add': 408,\n",
       " 'using': 409,\n",
       " 'break': 410,\n",
       " 'pain': 411,\n",
       " 'picture': 412,\n",
       " 'cry': 413,\n",
       " 'pics': 414,\n",
       " 'loved': 415,\n",
       " 'breakfast': 416,\n",
       " 'told': 417,\n",
       " 'fine': 418,\n",
       " 'facebook': 419,\n",
       " 'person': 420,\n",
       " 'boring': 421,\n",
       " 'change': 422,\n",
       " 'til': 423,\n",
       " 'wake': 424,\n",
       " 'goes': 425,\n",
       " 'seriously': 426,\n",
       " 'sunny': 427,\n",
       " 'update': 428,\n",
       " 'ass': 429,\n",
       " 'broke': 430,\n",
       " 'care': 431,\n",
       " 'bought': 432,\n",
       " 'starting': 433,\n",
       " 'dude': 434,\n",
       " 'gets': 435,\n",
       " 'lmao': 436,\n",
       " 'lucky': 437,\n",
       " 'open': 438,\n",
       " 'asleep': 439,\n",
       " 'season': 440,\n",
       " 'minutes': 441,\n",
       " 'june': 442,\n",
       " 'concert': 443,\n",
       " 'pay': 444,\n",
       " 'reply': 445,\n",
       " 'la': 446,\n",
       " 'sister': 447,\n",
       " 'called': 448,\n",
       " 'hungry': 449,\n",
       " 'month': 450,\n",
       " 'anyway': 451,\n",
       " '9': 452,\n",
       " 'aw': 453,\n",
       " 'link': 454,\n",
       " 'bring': 455,\n",
       " 'crap': 456,\n",
       " 'afternoon': 457,\n",
       " 'site': 458,\n",
       " 'drive': 459,\n",
       " 'walk': 460,\n",
       " '100': 461,\n",
       " 'shower': 462,\n",
       " 'heading': 463,\n",
       " 'text': 464,\n",
       " 'favorite': 465,\n",
       " 'sleeping': 466,\n",
       " 'train': 467,\n",
       " 'study': 468,\n",
       " 'instead': 469,\n",
       " 'fan': 470,\n",
       " 'yea': 471,\n",
       " 'xd': 472,\n",
       " 'ice': 473,\n",
       " 'bye': 474,\n",
       " 'e': 475,\n",
       " 'jealous': 476,\n",
       " 'enjoying': 477,\n",
       " 'red': 478,\n",
       " 'exams': 479,\n",
       " 'bout': 480,\n",
       " 'rock': 481,\n",
       " 'mother': 482,\n",
       " 'hoping': 483,\n",
       " 'definitely': 484,\n",
       " 'move': 485,\n",
       " 'wonderful': 486,\n",
       " 'mad': 487,\n",
       " 'brother': 488,\n",
       " 'high': 489,\n",
       " 'together': 490,\n",
       " 'dead': 491,\n",
       " 'city': 492,\n",
       " 'soooo': 493,\n",
       " 'dear': 494,\n",
       " 'problem': 495,\n",
       " 'sore': 496,\n",
       " 'fail': 497,\n",
       " '0': 498,\n",
       " 'running': 499,\n",
       " 'congrats': 500,\n",
       " '12': 501,\n",
       " 'homework': 502,\n",
       " 'sometimes': 503,\n",
       " 'l': 504,\n",
       " 'died': 505,\n",
       " 'finish': 506,\n",
       " 'nite': 507,\n",
       " 'youtube': 508,\n",
       " 'works': 509,\n",
       " 'means': 510,\n",
       " 'email': 511,\n",
       " 'goin': 512,\n",
       " 'ask': 513,\n",
       " 'movies': 514,\n",
       " 'fucking': 515,\n",
       " 'write': 516,\n",
       " 'album': 517,\n",
       " 'happened': 518,\n",
       " 'sigh': 519,\n",
       " 'suck': 520,\n",
       " 'drink': 521,\n",
       " 'set': 522,\n",
       " 'tea': 523,\n",
       " 'top': 524,\n",
       " 'town': 525,\n",
       " 'couple': 526,\n",
       " 'church': 527,\n",
       " 'cut': 528,\n",
       " 'laptop': 529,\n",
       " 'boys': 530,\n",
       " 'comes': 531,\n",
       " 'evening': 532,\n",
       " 'perfect': 533,\n",
       " 'ppl': 534,\n",
       " 'less': 535,\n",
       " 'loves': 536,\n",
       " 'ipod': 537,\n",
       " 'eyes': 538,\n",
       " '20': 539,\n",
       " 'tour': 540,\n",
       " 'water': 541,\n",
       " 'months': 542,\n",
       " 'reason': 543,\n",
       " 'weird': 544,\n",
       " 'songs': 545,\n",
       " 'happen': 546,\n",
       " 'sound': 547,\n",
       " 'side': 548,\n",
       " 'gym': 549,\n",
       " 'nap': 550,\n",
       " 'fall': 551,\n",
       " 'visit': 552,\n",
       " 'dream': 553,\n",
       " 'ive': 554,\n",
       " 'final': 555,\n",
       " 'studying': 556,\n",
       " 'meeting': 557,\n",
       " 'cream': 558,\n",
       " 'listen': 559,\n",
       " 'test': 560,\n",
       " 'cat': 561,\n",
       " 'close': 562,\n",
       " 'ones': 563,\n",
       " 'dance': 564,\n",
       " 'seem': 565,\n",
       " 'tickets': 566,\n",
       " 'mood': 567,\n",
       " 'loving': 568,\n",
       " 'english': 569,\n",
       " 'interesting': 570,\n",
       " 'lil': 571,\n",
       " 'catch': 572,\n",
       " 'list': 573,\n",
       " 'store': 574,\n",
       " 'fb': 575,\n",
       " 'agree': 576,\n",
       " 'ate': 577,\n",
       " 'hang': 578,\n",
       " '11': 579,\n",
       " 'turn': 580,\n",
       " 'writing': 581,\n",
       " 'knew': 582,\n",
       " 'story': 583,\n",
       " 'second': 584,\n",
       " 'fast': 585,\n",
       " 'worst': 586,\n",
       " 'pool': 587,\n",
       " 'moment': 588,\n",
       " 'clean': 589,\n",
       " 'ahh': 590,\n",
       " 'air': 591,\n",
       " 'word': 592,\n",
       " 'chocolate': 593,\n",
       " 'ride': 594,\n",
       " 'smile': 595,\n",
       " 'london': 596,\n",
       " 'awards': 597,\n",
       " 'saying': 598,\n",
       " 'page': 599,\n",
       " 'broken': 600,\n",
       " 'hmm': 601,\n",
       " 'yep': 602,\n",
       " 'moving': 603,\n",
       " 'wishing': 604,\n",
       " 'supposed': 605,\n",
       " 'unfortunately': 606,\n",
       " 'via': 607,\n",
       " 'worth': 608,\n",
       " 'photo': 609,\n",
       " 'dreams': 610,\n",
       " 'park': 611,\n",
       " 'throat': 612,\n",
       " 'three': 613,\n",
       " 'xxx': 614,\n",
       " 'wedding': 615,\n",
       " 'sunshine': 616,\n",
       " 'black': 617,\n",
       " '1st': 618,\n",
       " 'driving': 619,\n",
       " 'pictures': 620,\n",
       " 'past': 621,\n",
       " 'cleaning': 622,\n",
       " 'sleepy': 623,\n",
       " 'forget': 624,\n",
       " 'da': 625,\n",
       " 'sent': 626,\n",
       " 'short': 627,\n",
       " 'sat': 628,\n",
       " 'horrible': 629,\n",
       " 'g': 630,\n",
       " 'gave': 631,\n",
       " 'myspace': 632,\n",
       " 'understand': 633,\n",
       " 'star': 634,\n",
       " 'jonas': 635,\n",
       " 'tweeting': 636,\n",
       " 'mum': 637,\n",
       " 'slow': 638,\n",
       " 'em': 639,\n",
       " 'k': 640,\n",
       " 'followfriday': 641,\n",
       " 'pick': 642,\n",
       " 'drinking': 643,\n",
       " 'plan': 644,\n",
       " 'mac': 645,\n",
       " 'college': 646,\n",
       " 'worse': 647,\n",
       " 'account': 648,\n",
       " 'chance': 649,\n",
       " '15': 650,\n",
       " 'lady': 651,\n",
       " 'moon': 652,\n",
       " 'team': 653,\n",
       " 'whats': 654,\n",
       " 'green': 655,\n",
       " 'hugs': 656,\n",
       " 'wonder': 657,\n",
       " 'doesnt': 658,\n",
       " 'flight': 659,\n",
       " 'miley': 660,\n",
       " 'easy': 661,\n",
       " 'date': 662,\n",
       " 'rather': 663,\n",
       " 'longer': 664,\n",
       " 'fell': 665,\n",
       " 'hand': 666,\n",
       " 'special': 667,\n",
       " 'apparently': 668,\n",
       " 'mr': 669,\n",
       " 'upset': 670,\n",
       " 'bet': 671,\n",
       " 'holiday': 672,\n",
       " 'uk': 673,\n",
       " 'point': 674,\n",
       " 'updates': 675,\n",
       " 'scared': 676,\n",
       " 'tuesday': 677,\n",
       " 'nope': 678,\n",
       " 'bday': 679,\n",
       " 'flu': 680,\n",
       " 'cannot': 681,\n",
       " 'due': 682,\n",
       " 'vote': 683,\n",
       " 'huge': 684,\n",
       " 'spent': 685,\n",
       " 'plans': 686,\n",
       " 'wtf': 687,\n",
       " 'parents': 688,\n",
       " 'band': 689,\n",
       " 'mtv': 690,\n",
       " 'vacation': 691,\n",
       " 'words': 692,\n",
       " 'hanging': 693,\n",
       " 'plus': 694,\n",
       " 'ahhh': 695,\n",
       " 'earlier': 696,\n",
       " 'spend': 697,\n",
       " 'thx': 698,\n",
       " 'wondering': 699,\n",
       " 'website': 700,\n",
       " 'fair': 701,\n",
       " 'white': 702,\n",
       " 'forever': 703,\n",
       " 'body': 704,\n",
       " 'shame': 705,\n",
       " 'especially': 706,\n",
       " 'worry': 707,\n",
       " 'join': 708,\n",
       " 'bus': 709,\n",
       " 'line': 710,\n",
       " 'lazy': 711,\n",
       " 'idk': 712,\n",
       " 'david': 713,\n",
       " 'thursday': 714,\n",
       " 'message': 715,\n",
       " 'shows': 716,\n",
       " 'v': 717,\n",
       " 'stomach': 718,\n",
       " 'sadly': 719,\n",
       " 'lets': 720,\n",
       " 'thinks': 721,\n",
       " 'wear': 722,\n",
       " 'beer': 723,\n",
       " 'slept': 724,\n",
       " 'cake': 725,\n",
       " 'warm': 726,\n",
       " 'answer': 727,\n",
       " 'voice': 728,\n",
       " 'tom': 729,\n",
       " 'july': 730,\n",
       " 'looked': 731,\n",
       " 'google': 732,\n",
       " 'learn': 733,\n",
       " 'fans': 734,\n",
       " 'figure': 735,\n",
       " 'different': 736,\n",
       " 'bbq': 737,\n",
       " 'die': 738,\n",
       " 'inside': 739,\n",
       " 'havent': 740,\n",
       " 'support': 741,\n",
       " 'yummy': 742,\n",
       " 'meant': 743,\n",
       " 'eye': 744,\n",
       " 'chat': 745,\n",
       " 'number': 746,\n",
       " 'boyfriend': 747,\n",
       " 'rainy': 748,\n",
       " 'camera': 749,\n",
       " 'fix': 750,\n",
       " 'pizza': 751,\n",
       " 'airport': 752,\n",
       " 'photos': 753,\n",
       " 'except': 754,\n",
       " 'f': 755,\n",
       " 'safe': 756,\n",
       " 'met': 757,\n",
       " 'son': 758,\n",
       " 'episode': 759,\n",
       " 'small': 760,\n",
       " 'crying': 761,\n",
       " 'power': 762,\n",
       " 'dress': 763,\n",
       " 'sims': 764,\n",
       " 'liked': 765,\n",
       " 'graduation': 766,\n",
       " 'luv': 767,\n",
       " 'shop': 768,\n",
       " 'paper': 769,\n",
       " 'officially': 770,\n",
       " '2day': 771,\n",
       " 'save': 772,\n",
       " 'tummy': 773,\n",
       " 'radio': 774,\n",
       " 'finals': 775,\n",
       " 'dm': 776,\n",
       " 'project': 777,\n",
       " 'laugh': 778,\n",
       " 'shirt': 779,\n",
       " 'shall': 780,\n",
       " 'garden': 781,\n",
       " 'decided': 782,\n",
       " 'proud': 783,\n",
       " 'worked': 784,\n",
       " 'apple': 785,\n",
       " 'absolutely': 786,\n",
       " 'games': 787,\n",
       " 'kid': 788,\n",
       " 'beat': 789,\n",
       " 'hubby': 790,\n",
       " 'felt': 791,\n",
       " 'alright': 792,\n",
       " 'chicken': 793,\n",
       " 'bike': 794,\n",
       " 'hug': 795,\n",
       " 'yup': 796,\n",
       " 'twilight': 797,\n",
       " 'kill': 798,\n",
       " 'shoes': 799,\n",
       " 'lonely': 800,\n",
       " 'blue': 801,\n",
       " 'cd': 802,\n",
       " 'wit': 803,\n",
       " 'woo': 804,\n",
       " 'gorgeous': 805,\n",
       " 'needed': 806,\n",
       " 'sign': 807,\n",
       " 'annoying': 808,\n",
       " 'road': 809,\n",
       " 'books': 810,\n",
       " 'exciting': 811,\n",
       " 'hospital': 812,\n",
       " 'keeps': 813,\n",
       " 'brothers': 814,\n",
       " 'card': 815,\n",
       " 'wednesday': 816,\n",
       " 'club': 817,\n",
       " 'babe': 818,\n",
       " 'played': 819,\n",
       " 'hmmm': 820,\n",
       " 'lame': 821,\n",
       " 'exactly': 822,\n",
       " 'packing': 823,\n",
       " 'xoxo': 824,\n",
       " 'french': 825,\n",
       " 'front': 826,\n",
       " 'case': 827,\n",
       " 'starts': 828,\n",
       " 'wine': 829,\n",
       " 'taken': 830,\n",
       " 'wishes': 831,\n",
       " 'near': 832,\n",
       " 'ouch': 833,\n",
       " 'scary': 834,\n",
       " 'living': 835,\n",
       " 'cos': 836,\n",
       " 'hates': 837,\n",
       " 'feet': 838,\n",
       " 'goodbye': 839,\n",
       " 'turned': 840,\n",
       " 'fact': 841,\n",
       " 'bro': 842,\n",
       " 'realized': 843,\n",
       " 'happens': 844,\n",
       " 'order': 845,\n",
       " 'knows': 846,\n",
       " '2nd': 847,\n",
       " 'share': 848,\n",
       " 'isnt': 849,\n",
       " 'behind': 850,\n",
       " 'jus': 851,\n",
       " 'drunk': 852,\n",
       " 'business': 853,\n",
       " 'cup': 854,\n",
       " 'walking': 855,\n",
       " 'waking': 856,\n",
       " 'although': 857,\n",
       " 'yo': 858,\n",
       " 'service': 859,\n",
       " 'j': 860,\n",
       " 'mothers': 861,\n",
       " 'touch': 862,\n",
       " 'whatever': 863,\n",
       " 'download': 864,\n",
       " 'gettin': 865,\n",
       " 'question': 866,\n",
       " 'sold': 867,\n",
       " 'everybody': 868,\n",
       " 'pass': 869,\n",
       " 'clothes': 870,\n",
       " 'minute': 871,\n",
       " 'relaxing': 872,\n",
       " 'along': 873,\n",
       " 'hahah': 874,\n",
       " 'videos': 875,\n",
       " 'app': 876,\n",
       " 'alot': 877,\n",
       " 'giving': 878,\n",
       " 'wife': 879,\n",
       " 'lose': 880,\n",
       " 'mail': 881,\n",
       " 'vegas': 882,\n",
       " 'killing': 883,\n",
       " 'box': 884,\n",
       " 'random': 885,\n",
       " 'company': 886,\n",
       " 'posted': 887,\n",
       " 'sis': 888,\n",
       " 'fly': 889,\n",
       " 'sit': 890,\n",
       " 'film': 891,\n",
       " 'guitar': 892,\n",
       " 'lakers': 893,\n",
       " 'round': 894,\n",
       " 'hangover': 895,\n",
       " 'single': 896,\n",
       " 'fantastic': 897,\n",
       " 'revision': 898,\n",
       " 'staying': 899,\n",
       " 'terrible': 900,\n",
       " 'version': 901,\n",
       " 'passed': 902,\n",
       " 'enjoyed': 903,\n",
       " 'light': 904,\n",
       " 'web': 905,\n",
       " 'ahead': 906,\n",
       " 'comment': 907,\n",
       " 'interview': 908,\n",
       " 'indeed': 909,\n",
       " 'huh': 910,\n",
       " 'eh': 911,\n",
       " 'self': 912,\n",
       " 'gosh': 913,\n",
       " 'history': 914,\n",
       " 'plane': 915,\n",
       " 'bummed': 916,\n",
       " 'mins': 917,\n",
       " 'bitch': 918,\n",
       " 'dying': 919,\n",
       " 'ohh': 920,\n",
       " 'mommy': 921,\n",
       " 'aint': 922,\n",
       " 'asked': 923,\n",
       " 'daughter': 924,\n",
       " 'singing': 925,\n",
       " 'deal': 926,\n",
       " 'vip': 927,\n",
       " 'usually': 928,\n",
       " 'fml': 929,\n",
       " 'upload': 930,\n",
       " 'lately': 931,\n",
       " 'hun': 932,\n",
       " 'completely': 933,\n",
       " 'nights': 934,\n",
       " 'dark': 935,\n",
       " 'shoot': 936,\n",
       " 'bar': 937,\n",
       " 'peace': 938,\n",
       " 'bloody': 939,\n",
       " 'sexy': 940,\n",
       " 'cook': 941,\n",
       " 'cheese': 942,\n",
       " 'death': 943,\n",
       " 'disappointed': 944,\n",
       " 'nobody': 945,\n",
       " 'freaking': 946,\n",
       " 'dvd': 947,\n",
       " 'headed': 948,\n",
       " 'worried': 949,\n",
       " 'fat': 950,\n",
       " 'currently': 951,\n",
       " 'hotel': 952,\n",
       " 'camp': 953,\n",
       " 'extra': 954,\n",
       " 'changed': 955,\n",
       " 'sing': 956,\n",
       " 'ff': 957,\n",
       " 'bb': 958,\n",
       " 'pink': 959,\n",
       " 'wearing': 960,\n",
       " 'fingers': 961,\n",
       " 'awful': 962,\n",
       " 'country': 963,\n",
       " 'traffic': 964,\n",
       " 'quick': 965,\n",
       " 'yum': 966,\n",
       " 'others': 967,\n",
       " 'hold': 968,\n",
       " 'exhausted': 969,\n",
       " 'serious': 970,\n",
       " '24': 971,\n",
       " '50': 972,\n",
       " 'caught': 973,\n",
       " 'nick': 974,\n",
       " 'pissed': 975,\n",
       " 'art': 976,\n",
       " 'watchin': 977,\n",
       " 'blah': 978,\n",
       " 'daddy': 979,\n",
       " 'ran': 980,\n",
       " 'matter': 981,\n",
       " 'blood': 982,\n",
       " 'coz': 983,\n",
       " 'door': 984,\n",
       " 'dunno': 985,\n",
       " 'low': 986,\n",
       " 'spending': 987,\n",
       " 'pc': 988,\n",
       " 'chillin': 989,\n",
       " 'closed': 990,\n",
       " 'profile': 991,\n",
       " 'somewhere': 992,\n",
       " 'dang': 993,\n",
       " 'itunes': 994,\n",
       " 'hrs': 995,\n",
       " 'fixed': 996,\n",
       " 'maths': 997,\n",
       " 'nearly': 998,\n",
       " 'cousin': 999,\n",
       " 'nose': 1000,\n",
       " ...}"
      ]
     },
     "execution_count": 25,
     "metadata": {},
     "output_type": "execute_result"
    }
   ],
   "source": [
    "tokenizer.word_index"
   ]
  },
  {
   "cell_type": "code",
   "execution_count": 26,
   "metadata": {},
   "outputs": [
    {
     "data": {
      "text/plain": [
       "290653"
      ]
     },
     "execution_count": 26,
     "metadata": {},
     "output_type": "execute_result"
    }
   ],
   "source": [
    "vocab_size=len(tokenizer.word_index)+1\n",
    "vocab_size"
   ]
  },
  {
   "cell_type": "code",
   "execution_count": 27,
   "metadata": {},
   "outputs": [
    {
     "data": {
      "text/plain": [
       "array([[    0,     0,     0, ...,  3008, 21821,   796],\n",
       "       [    0,     0,     0, ...,     7,   531,  2976],\n",
       "       [    0,     0,     0, ...,  9856,   874,   109],\n",
       "       ...,\n",
       "       [    0,     0,     0, ...,   262,   774,     1],\n",
       "       [    0,     0,     0, ...,   158, 17570,    11],\n",
       "       [    0,     0,     0, ...,     7, 32054,     7]], dtype=int32)"
      ]
     },
     "execution_count": 27,
     "metadata": {},
     "output_type": "execute_result"
    }
   ],
   "source": [
    "X_train = pad_sequences(tokenizer.texts_to_sequences(train_df.text), maxlen=300)\n",
    "X_train"
   ]
  },
  {
   "cell_type": "code",
   "execution_count": 28,
   "metadata": {},
   "outputs": [
    {
     "data": {
      "text/plain": [
       "array([[    0,     0,     0, ...,   256,  1664,   199],\n",
       "       [    0,     0,     0, ...,  6190,  1790,    75],\n",
       "       [    0,     0,     0, ...,  4779,   806,   111],\n",
       "       ...,\n",
       "       [    0,     0,     0, ...,   572, 66636,  1913],\n",
       "       [    0,     0,     0, ...,   471,    82,   198],\n",
       "       [    0,     0,     0, ...,   203,   337,  5137]], dtype=int32)"
      ]
     },
     "execution_count": 28,
     "metadata": {},
     "output_type": "execute_result"
    }
   ],
   "source": [
    "X_test = pad_sequences(tokenizer.texts_to_sequences(test_df.text), maxlen=300)\n",
    "X_test"
   ]
  },
  {
   "cell_type": "code",
   "execution_count": 29,
   "metadata": {},
   "outputs": [
    {
     "data": {
      "text/plain": [
       "1578903    Positive\n",
       "51568      Negative\n",
       "569210     Negative\n",
       "71896      Negative\n",
       "405089     Negative\n",
       "Name: target, dtype: object"
      ]
     },
     "execution_count": 29,
     "metadata": {},
     "output_type": "execute_result"
    }
   ],
   "source": [
    "y_train=train_df.target\n",
    "y_train.head()"
   ]
  },
  {
   "cell_type": "code",
   "execution_count": 30,
   "metadata": {},
   "outputs": [
    {
     "data": {
      "text/plain": [
       "448282     Negative\n",
       "1475261    Positive\n",
       "132529     Negative\n",
       "182348     Negative\n",
       "907614     Positive\n",
       "Name: target, dtype: object"
      ]
     },
     "execution_count": 30,
     "metadata": {},
     "output_type": "execute_result"
    }
   ],
   "source": [
    "y_test=test_df.target\n",
    "y_test.head()"
   ]
  },
  {
   "cell_type": "markdown",
   "metadata": {},
   "source": [
    "**Encoding the Categorical target into 0 and 1**"
   ]
  },
  {
   "cell_type": "code",
   "execution_count": 31,
   "metadata": {},
   "outputs": [],
   "source": [
    "labelencoder = LabelEncoder()\n",
    "y_train = labelencoder.fit_transform(y_train)\n",
    "y_test=labelencoder.fit_transform(y_test)"
   ]
  },
  {
   "cell_type": "code",
   "execution_count": 32,
   "metadata": {},
   "outputs": [
    {
     "data": {
      "text/plain": [
       "(1280000,)"
      ]
     },
     "execution_count": 32,
     "metadata": {},
     "output_type": "execute_result"
    }
   ],
   "source": [
    "y_train.shape"
   ]
  },
  {
   "cell_type": "code",
   "execution_count": 33,
   "metadata": {},
   "outputs": [
    {
     "data": {
      "text/plain": [
       "(320000,)"
      ]
     },
     "execution_count": 33,
     "metadata": {},
     "output_type": "execute_result"
    }
   ],
   "source": [
    "y_test.shape"
   ]
  },
  {
   "cell_type": "markdown",
   "metadata": {},
   "source": [
    "**Embedding Matrix**"
   ]
  },
  {
   "cell_type": "code",
   "execution_count": 34,
   "metadata": {},
   "outputs": [
    {
     "name": "stdout",
     "output_type": "stream",
     "text": [
      "(290653, 300)\n"
     ]
    }
   ],
   "source": [
    "embedding_matrix = np.zeros((vocab_size, 300))\n",
    "for word, i in tokenizer.word_index.items():\n",
    "  if word in w2v_model.wv:\n",
    "    embedding_matrix[i] = w2v_model.wv[word]\n",
    "print(embedding_matrix.shape)"
   ]
  },
  {
   "cell_type": "code",
   "execution_count": 35,
   "metadata": {},
   "outputs": [],
   "source": [
    "embedding_layer = Embedding(vocab_size, 300, weights=[embedding_matrix], input_length=300, trainable=False)"
   ]
  },
  {
   "cell_type": "markdown",
   "metadata": {},
   "source": [
    "**Build Model using LSTM**"
   ]
  },
  {
   "cell_type": "code",
   "execution_count": 36,
   "metadata": {},
   "outputs": [
    {
     "name": "stdout",
     "output_type": "stream",
     "text": [
      "Model: \"sequential_1\"\n",
      "_________________________________________________________________\n",
      "Layer (type)                 Output Shape              Param #   \n",
      "=================================================================\n",
      "embedding_1 (Embedding)      (None, 300, 300)          87195900  \n",
      "_________________________________________________________________\n",
      "dropout_1 (Dropout)          (None, 300, 300)          0         \n",
      "_________________________________________________________________\n",
      "lstm_1 (LSTM)                (None, 100)               160400    \n",
      "_________________________________________________________________\n",
      "dense_1 (Dense)              (None, 1)                 101       \n",
      "=================================================================\n",
      "Total params: 87,356,401\n",
      "Trainable params: 160,501\n",
      "Non-trainable params: 87,195,900\n",
      "_________________________________________________________________\n"
     ]
    }
   ],
   "source": [
    "model = Sequential()\n",
    "model.add(embedding_layer)\n",
    "model.add(Dropout(0.5))\n",
    "model.add(LSTM(100, dropout=0.2, recurrent_dropout=0.2))\n",
    "model.add(Dense(1, activation='sigmoid'))\n",
    "model.summary()"
   ]
  },
  {
   "cell_type": "markdown",
   "metadata": {},
   "source": [
    "**Compile Model**"
   ]
  },
  {
   "cell_type": "code",
   "execution_count": 37,
   "metadata": {},
   "outputs": [],
   "source": [
    "model.compile(loss='binary_crossentropy',\n",
    "              optimizer=\"adam\",\n",
    "              metrics=['accuracy'])"
   ]
  },
  {
   "cell_type": "markdown",
   "metadata": {},
   "source": [
    "**Fitting the Model**"
   ]
  },
  {
   "cell_type": "code",
   "execution_count": 38,
   "metadata": {},
   "outputs": [
    {
     "name": "stdout",
     "output_type": "stream",
     "text": [
      "Train on 1152000 samples, validate on 128000 samples\n",
      "Epoch 1/15\n",
      "1152000/1152000 [==============================] - 373s 323us/step - loss: 0.4993 - accuracy: 0.7538 - val_loss: 0.4523 - val_accuracy: 0.7852\n",
      "Epoch 2/15\n",
      "1152000/1152000 [==============================] - 369s 321us/step - loss: 0.4729 - accuracy: 0.7718 - val_loss: 0.4450 - val_accuracy: 0.7901\n",
      "Epoch 3/15\n",
      "1152000/1152000 [==============================] - 372s 323us/step - loss: 0.4653 - accuracy: 0.7764 - val_loss: 0.4400 - val_accuracy: 0.7936\n",
      "Epoch 4/15\n",
      "1152000/1152000 [==============================] - 369s 320us/step - loss: 0.4613 - accuracy: 0.7786 - val_loss: 0.4387 - val_accuracy: 0.7943\n",
      "Epoch 5/15\n",
      "1152000/1152000 [==============================] - 376s 327us/step - loss: 0.4663 - accuracy: 0.7761 - val_loss: 0.4394 - val_accuracy: 0.7938\n",
      "Epoch 6/15\n",
      "1152000/1152000 [==============================] - 368s 320us/step - loss: 0.4626 - accuracy: 0.7783 - val_loss: 0.4368 - val_accuracy: 0.7949\n",
      "Epoch 7/15\n",
      "1152000/1152000 [==============================] - 370s 321us/step - loss: 0.4596 - accuracy: 0.7796 - val_loss: 0.4349 - val_accuracy: 0.7957\n",
      "Epoch 8/15\n",
      "1152000/1152000 [==============================] - 366s 318us/step - loss: 0.4587 - accuracy: 0.7803 - val_loss: 0.4346 - val_accuracy: 0.7958\n",
      "Epoch 9/15\n",
      "1152000/1152000 [==============================] - 364s 316us/step - loss: 0.4573 - accuracy: 0.7810 - val_loss: 0.4347 - val_accuracy: 0.7959\n",
      "Epoch 10/15\n",
      "1152000/1152000 [==============================] - 365s 317us/step - loss: 0.4566 - accuracy: 0.7817 - val_loss: 0.4326 - val_accuracy: 0.7974\n",
      "Epoch 11/15\n",
      "1152000/1152000 [==============================] - 365s 317us/step - loss: 0.4560 - accuracy: 0.7822 - val_loss: 0.4333 - val_accuracy: 0.7970\n",
      "Epoch 12/15\n",
      "1152000/1152000 [==============================] - 365s 317us/step - loss: 0.4549 - accuracy: 0.7829 - val_loss: 0.4331 - val_accuracy: 0.7973\n",
      "Epoch 13/15\n",
      "1152000/1152000 [==============================] - 365s 317us/step - loss: 0.4538 - accuracy: 0.7832 - val_loss: 0.4323 - val_accuracy: 0.7979\n",
      "Epoch 14/15\n",
      "1152000/1152000 [==============================] - 369s 320us/step - loss: 0.4534 - accuracy: 0.7835 - val_loss: 0.4318 - val_accuracy: 0.7982\n",
      "Epoch 15/15\n",
      " 610304/1152000 [==============>...............] - ETA: 2:44 - loss: 0.4524 - accuracy: 0.7840"
     ]
    }
   ],
   "source": [
    "model_history=model.fit(X_train, y_train,batch_size=1024,epochs=15,validation_split=0.1,verbose=1)"
   ]
  },
  {
   "cell_type": "code",
   "execution_count": 39,
   "metadata": {},
   "outputs": [],
   "source": [
    "acc = model_history.history['accuracy']\n",
    "val_acc = model_history.history['val_accuracy']\n",
    "loss = model_history.history['loss']\n",
    "val_loss = model_history.history['val_loss']\n",
    "epochs=range(len(acc))"
   ]
  },
  {
   "cell_type": "code",
   "execution_count": 40,
   "metadata": {},
   "outputs": [
    {
     "data": {
      "text/plain": [
       "Text(0.5, 1.0, 'Training and Validation Accuracy')"
      ]
     },
     "execution_count": 40,
     "metadata": {},
     "output_type": "execute_result"
    },
    {
     "data": {
      "image/png": "[encoded data removed]",
      "text/plain": [
       "<Figure size 432x288 with 1 Axes>"
      ]
     },
     "metadata": {
      "needs_background": "light"
     },
     "output_type": "display_data"
    }
   ],
   "source": [
    "plt.plot(epochs,acc,label='Trainin_acc',color='blue')\n",
    "plt.plot(epochs,val_acc,label='Validation_acc',color='red')\n",
    "plt.legend()\n",
    "plt.title(\"Training and Validation Accuracy\")"
   ]
  },
  {
   "cell_type": "code",
   "execution_count": 41,
   "metadata": {},
   "outputs": [
    {
     "data": {
      "text/plain": [
       "Text(0.5, 1.0, 'Training and Validation loss')"
      ]
     },
     "execution_count": 41,
     "metadata": {},
     "output_type": "execute_result"
    },
    {
     "data": {
      "image/png": "[encoded data removed]",
      "text/plain": [
       "<Figure size 432x288 with 1 Axes>"
      ]
     },
     "metadata": {
      "needs_background": "light"
     },
     "output_type": "display_data"
    }
   ],
   "source": [
    "plt.plot(epochs,loss,label='Training_loss',color='blue')\n",
    "plt.plot(epochs,val_loss,label='Validation_loss',color='red')\n",
    "plt.legend()\n",
    "plt.title(\"Training and Validation loss\")"
   ]
  },
  {
   "cell_type": "markdown",
   "metadata": {},
   "source": [
    "**Preprocessing of tweets given by user**"
   ]
  },
  {
   "cell_type": "code",
   "execution_count": 42,
   "metadata": {},
   "outputs": [],
   "source": [
    "def preprocess(text):\n",
    "    review=re.sub('@\\S+|https?:\\S+|http?:\\S|[^A-Za-z0-9]+',' ',text)\n",
    "    review=review.lower()\n",
    "    review=review.split()\n",
    "    review=[word for word in review if not word in stop_words]\n",
    "    print(review)\n",
    "    review=pad_sequences(tokenizer.texts_to_sequences([review]), maxlen=300)\n",
    "    return review"
   ]
  },
  {
   "cell_type": "markdown",
   "metadata": {},
   "source": [
    "**Prediction**"
   ]
  },
  {
   "cell_type": "code",
   "execution_count": 43,
   "metadata": {},
   "outputs": [],
   "source": [
    "def prediction(review):\n",
    "    review=preprocess(review)\n",
    "    score=model.predict(review)\n",
    "    score=score[0]\n",
    "    if score<0.4:\n",
    "        print(\"Negative\")\n",
    "    elif score>0.4 and score<0.6:\n",
    "        print(\"Neutral\")\n",
    "    else:\n",
    "        print(\"Positive\")\n",
    "    print(score)\n"
   ]
  },
  {
   "cell_type": "code",
   "execution_count": 44,
   "metadata": {},
   "outputs": [
    {
     "name": "stdout",
     "output_type": "stream",
     "text": [
      "['food', 'not', 'bad']\n",
      "Positive\n",
      "[0.6586988]\n"
     ]
    }
   ],
   "source": [
    "prediction(\"the food is not bad\")"
   ]
  },
  {
   "cell_type": "code",
   "execution_count": 45,
   "metadata": {},
   "outputs": [
    {
     "name": "stdout",
     "output_type": "stream",
     "text": [
      "['film', 'horrible']\n",
      "Negative\n",
      "[0.03846683]\n"
     ]
    }
   ],
   "source": [
    "prediction(\"the film was horrible\")"
   ]
  },
  {
   "cell_type": "code",
   "execution_count": 46,
   "metadata": {},
   "outputs": [
    {
     "name": "stdout",
     "output_type": "stream",
     "text": [
      "320000/320000 [==============================] - 47s 145us/step\n"
     ]
    }
   ],
   "source": [
    "scores = model.predict(X_test, verbose=1, batch_size=1024)"
   ]
  },
  {
   "cell_type": "code",
   "execution_count": 47,
   "metadata": {},
   "outputs": [
    {
     "data": {
      "text/plain": [
       "array([[0.00563517],\n",
       "       [0.6874652 ],\n",
       "       [0.8231057 ],\n",
       "       ...,\n",
       "       [0.9437214 ],\n",
       "       [0.91557   ],\n",
       "       [0.9682863 ]], dtype=float32)"
      ]
     },
     "execution_count": 47,
     "metadata": {},
     "output_type": "execute_result"
    }
   ],
   "source": [
    "scores"
   ]
  },
  {
   "cell_type": "code",
   "execution_count": 48,
   "metadata": {},
   "outputs": [],
   "source": [
    "y_pred=np.where(scores>0.5,1,0)"
   ]
  },
  {
   "cell_type": "code",
   "execution_count": 49,
   "metadata": {},
   "outputs": [
    {
     "data": {
      "text/plain": [
       "array([[0],\n",
       "       [1],\n",
       "       [1],\n",
       "       ...,\n",
       "       [1],\n",
       "       [1],\n",
       "       [1]])"
      ]
     },
     "execution_count": 49,
     "metadata": {},
     "output_type": "execute_result"
    }
   ],
   "source": [
    "y_pred"
   ]
  },
  {
   "cell_type": "code",
   "execution_count": 50,
   "metadata": {},
   "outputs": [
    {
     "data": {
      "text/plain": [
       "array([0, 1, 0, ..., 1, 1, 1])"
      ]
     },
     "execution_count": 50,
     "metadata": {},
     "output_type": "execute_result"
    }
   ],
   "source": [
    "y_test"
   ]
  },
  {
   "cell_type": "markdown",
   "metadata": {},
   "source": [
    "**Evaluation Using Confusion Matrix, accuracy_score and classification report**"
   ]
  },
  {
   "cell_type": "code",
   "execution_count": 51,
   "metadata": {},
   "outputs": [
    {
     "name": "stdout",
     "output_type": "stream",
     "text": [
      "[[124101  28950]\n",
      " [ 35945 131004]]\n"
     ]
    }
   ],
   "source": [
    "\n",
    "cm=confusion_matrix(y_pred,y_test)\n",
    "print(cm)"
   ]
  },
  {
   "cell_type": "code",
   "execution_count": 52,
   "metadata": {},
   "outputs": [
    {
     "name": "stdout",
     "output_type": "stream",
     "text": [
      "0.797203125\n"
     ]
    }
   ],
   "source": [
    "print(accuracy_score(y_pred,y_test))"
   ]
  },
  {
   "cell_type": "code",
   "execution_count": 53,
   "metadata": {},
   "outputs": [
    {
     "name": "stdout",
     "output_type": "stream",
     "text": [
      "              precision    recall  f1-score   support\n",
      "\n",
      "           0       0.81      0.78      0.79    160046\n",
      "           1       0.78      0.82      0.80    159954\n",
      "\n",
      "    accuracy                           0.80    320000\n",
      "   macro avg       0.80      0.80      0.80    320000\n",
      "weighted avg       0.80      0.80      0.80    320000\n",
      "\n"
     ]
    }
   ],
   "source": [
    "print(classification_report(y_test, y_pred))"
   ]
  },
  {
   "cell_type": "markdown",
   "metadata": {},
   "source": [
    "**Saving the Trained Models**"
   ]
  },
  {
   "cell_type": "code",
   "execution_count": 54,
   "metadata": {},
   "outputs": [
    {
     "data": {
      "text/plain": [
       "['final_model.pkl']"
      ]
     },
     "execution_count": 54,
     "metadata": {},
     "output_type": "execute_result"
    }
   ],
   "source": [
    "joblib.dump(w2v_model,'word2vec.pkl')\n",
    "joblib.dump(tokenizer,'tokenizer.pkl')\n",
    "joblib.dump(model,'final_model.pkl')"
   ]
  }
 ],
 "metadata": {
  "kernelspec": {
   "display_name": "Python 3",
   "language": "python",
   "name": "python3"
  },
  "language_info": {
   "codemirror_mode": {
    "name": "ipython",
    "version": 3
   },
   "file_extension": ".py",
   "mimetype": "text/x-python",
   "name": "python",
   "nbconvert_exporter": "python",
   "pygments_lexer": "ipython3",
   "version": "3.6.5"
  }
 },
 "nbformat": 4,
 "nbformat_minor": 1
}
